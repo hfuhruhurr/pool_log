{
 "cells": [
  {
   "cell_type": "code",
   "execution_count": 1,
   "metadata": {},
   "outputs": [],
   "source": [
    "import pandas as pd\n",
    "import plotly.express as px\n",
    "import altair as alt"
   ]
  },
  {
   "cell_type": "code",
   "execution_count": 2,
   "metadata": {},
   "outputs": [],
   "source": [
    "readings = pd.read_csv('chemistry_readings.csv', parse_dates=['date'])\n",
    "chemicals = pd.read_csv('added_chemicals.csv', parse_dates=['date'])\n",
    "pinch = pd.read_csv('pinch_a_penny.csv', parse_dates=['date'])"
   ]
  },
  {
   "cell_type": "markdown",
   "metadata": {},
   "source": [
    "### Notes\n",
    "- w/ Total Alkalinity @ 80, the natural steady state pH is 8.2 \n",
    "    - why is this a desired level when @ 40, things were steady state cool?\n",
    "    - getting TA back down to 40 would take 1.08 gallons (!) of muriatic acid"
   ]
  },
  {
   "cell_type": "code",
   "execution_count": 3,
   "metadata": {},
   "outputs": [
    {
     "data": {
      "text/html": [
       "<div>\n",
       "<style scoped>\n",
       "    .dataframe tbody tr th:only-of-type {\n",
       "        vertical-align: middle;\n",
       "    }\n",
       "\n",
       "    .dataframe tbody tr th {\n",
       "        vertical-align: top;\n",
       "    }\n",
       "\n",
       "    .dataframe thead th {\n",
       "        text-align: right;\n",
       "    }\n",
       "</style>\n",
       "<table border=\"1\" class=\"dataframe\">\n",
       "  <thead>\n",
       "    <tr style=\"text-align: right;\">\n",
       "      <th></th>\n",
       "      <th>date</th>\n",
       "      <th>time</th>\n",
       "      <th>total_hardness</th>\n",
       "      <th>total_chlorine</th>\n",
       "      <th>free_chlorine</th>\n",
       "      <th>ph_strip</th>\n",
       "      <th>total_alkalinity</th>\n",
       "      <th>stabilizer</th>\n",
       "      <th>ph_instrument</th>\n",
       "      <th>water_temp</th>\n",
       "    </tr>\n",
       "  </thead>\n",
       "  <tbody>\n",
       "    <tr>\n",
       "      <th>118</th>\n",
       "      <td>2023-01-30</td>\n",
       "      <td>15:08</td>\n",
       "      <td>100.0</td>\n",
       "      <td>1.0</td>\n",
       "      <td>1.0</td>\n",
       "      <td>6.8</td>\n",
       "      <td>40.0</td>\n",
       "      <td>0.0</td>\n",
       "      <td>7.52</td>\n",
       "      <td>71.7</td>\n",
       "    </tr>\n",
       "    <tr>\n",
       "      <th>119</th>\n",
       "      <td>2023-02-13</td>\n",
       "      <td>17:01</td>\n",
       "      <td>100.0</td>\n",
       "      <td>0.5</td>\n",
       "      <td>0.0</td>\n",
       "      <td>6.8</td>\n",
       "      <td>40.0</td>\n",
       "      <td>0.0</td>\n",
       "      <td>8.13</td>\n",
       "      <td>68.8</td>\n",
       "    </tr>\n",
       "    <tr>\n",
       "      <th>120</th>\n",
       "      <td>2023-02-21</td>\n",
       "      <td>14:05</td>\n",
       "      <td>100.0</td>\n",
       "      <td>1.0</td>\n",
       "      <td>0.0</td>\n",
       "      <td>6.8</td>\n",
       "      <td>40.0</td>\n",
       "      <td>0.0</td>\n",
       "      <td>7.88</td>\n",
       "      <td>78.2</td>\n",
       "    </tr>\n",
       "  </tbody>\n",
       "</table>\n",
       "</div>"
      ],
      "text/plain": [
       "          date   time  total_hardness  total_chlorine  free_chlorine  \\\n",
       "118 2023-01-30  15:08           100.0             1.0            1.0   \n",
       "119 2023-02-13  17:01           100.0             0.5            0.0   \n",
       "120 2023-02-21  14:05           100.0             1.0            0.0   \n",
       "\n",
       "     ph_strip  total_alkalinity  stabilizer  ph_instrument  water_temp  \n",
       "118       6.8              40.0         0.0           7.52        71.7  \n",
       "119       6.8              40.0         0.0           8.13        68.8  \n",
       "120       6.8              40.0         0.0           7.88        78.2  "
      ]
     },
     "execution_count": 3,
     "metadata": {},
     "output_type": "execute_result"
    }
   ],
   "source": [
    "readings.tail(3)"
   ]
  },
  {
   "cell_type": "code",
   "execution_count": 4,
   "metadata": {},
   "outputs": [
    {
     "data": {
      "text/html": [
       "<div>\n",
       "<style scoped>\n",
       "    .dataframe tbody tr th:only-of-type {\n",
       "        vertical-align: middle;\n",
       "    }\n",
       "\n",
       "    .dataframe tbody tr th {\n",
       "        vertical-align: top;\n",
       "    }\n",
       "\n",
       "    .dataframe thead th {\n",
       "        text-align: right;\n",
       "    }\n",
       "</style>\n",
       "<table border=\"1\" class=\"dataframe\">\n",
       "  <thead>\n",
       "    <tr style=\"text-align: right;\">\n",
       "      <th></th>\n",
       "      <th>date</th>\n",
       "      <th>time</th>\n",
       "      <th>chemical</th>\n",
       "      <th>amount</th>\n",
       "      <th>unit</th>\n",
       "      <th>note</th>\n",
       "    </tr>\n",
       "  </thead>\n",
       "  <tbody>\n",
       "    <tr>\n",
       "      <th>88</th>\n",
       "      <td>2023-01-13</td>\n",
       "      <td>12:48</td>\n",
       "      <td>chlorine</td>\n",
       "      <td>1.0</td>\n",
       "      <td>3\" puck</td>\n",
       "      <td>NaN</td>\n",
       "    </tr>\n",
       "    <tr>\n",
       "      <th>89</th>\n",
       "      <td>2023-01-18</td>\n",
       "      <td>14:12</td>\n",
       "      <td>water</td>\n",
       "      <td>222.0</td>\n",
       "      <td>gal</td>\n",
       "      <td>20m 0s</td>\n",
       "    </tr>\n",
       "    <tr>\n",
       "      <th>90</th>\n",
       "      <td>2023-01-25</td>\n",
       "      <td>14:06</td>\n",
       "      <td>water</td>\n",
       "      <td>222.0</td>\n",
       "      <td>gal</td>\n",
       "      <td>20m 0s</td>\n",
       "    </tr>\n",
       "    <tr>\n",
       "      <th>91</th>\n",
       "      <td>2023-01-30</td>\n",
       "      <td>13:37</td>\n",
       "      <td>muriatic acid</td>\n",
       "      <td>16.0</td>\n",
       "      <td>oz</td>\n",
       "      <td>NaN</td>\n",
       "    </tr>\n",
       "    <tr>\n",
       "      <th>92</th>\n",
       "      <td>2023-01-30</td>\n",
       "      <td>13:41</td>\n",
       "      <td>chlorine</td>\n",
       "      <td>1.0</td>\n",
       "      <td>3\" puck</td>\n",
       "      <td>NaN</td>\n",
       "    </tr>\n",
       "    <tr>\n",
       "      <th>93</th>\n",
       "      <td>2023-01-31</td>\n",
       "      <td>12:35</td>\n",
       "      <td>water</td>\n",
       "      <td>333.0</td>\n",
       "      <td>gal</td>\n",
       "      <td>30m 0s</td>\n",
       "    </tr>\n",
       "    <tr>\n",
       "      <th>94</th>\n",
       "      <td>2023-02-13</td>\n",
       "      <td>13:53</td>\n",
       "      <td>water</td>\n",
       "      <td>333.0</td>\n",
       "      <td>gal</td>\n",
       "      <td>30m 0s</td>\n",
       "    </tr>\n",
       "    <tr>\n",
       "      <th>95</th>\n",
       "      <td>2023-02-13</td>\n",
       "      <td>17:14</td>\n",
       "      <td>chlorine</td>\n",
       "      <td>1.0</td>\n",
       "      <td>3\" puck</td>\n",
       "      <td>NaN</td>\n",
       "    </tr>\n",
       "    <tr>\n",
       "      <th>96</th>\n",
       "      <td>2023-02-13</td>\n",
       "      <td>17:15</td>\n",
       "      <td>muriatic acid</td>\n",
       "      <td>16.0</td>\n",
       "      <td>oz</td>\n",
       "      <td>NaN</td>\n",
       "    </tr>\n",
       "    <tr>\n",
       "      <th>97</th>\n",
       "      <td>2023-02-22</td>\n",
       "      <td>13:45</td>\n",
       "      <td>water</td>\n",
       "      <td>333.0</td>\n",
       "      <td>gal</td>\n",
       "      <td>30m 0s</td>\n",
       "    </tr>\n",
       "  </tbody>\n",
       "</table>\n",
       "</div>"
      ],
      "text/plain": [
       "         date   time       chemical  amount     unit    note\n",
       "88 2023-01-13  12:48       chlorine     1.0  3\" puck     NaN\n",
       "89 2023-01-18  14:12          water   222.0      gal  20m 0s\n",
       "90 2023-01-25  14:06          water   222.0      gal  20m 0s\n",
       "91 2023-01-30  13:37  muriatic acid    16.0       oz     NaN\n",
       "92 2023-01-30  13:41       chlorine     1.0  3\" puck     NaN\n",
       "93 2023-01-31  12:35          water   333.0      gal  30m 0s\n",
       "94 2023-02-13  13:53          water   333.0      gal  30m 0s\n",
       "95 2023-02-13  17:14       chlorine     1.0  3\" puck     NaN\n",
       "96 2023-02-13  17:15  muriatic acid    16.0       oz     NaN\n",
       "97 2023-02-22  13:45          water   333.0      gal  30m 0s"
      ]
     },
     "execution_count": 4,
     "metadata": {},
     "output_type": "execute_result"
    }
   ],
   "source": [
    "chemicals.tail(10)"
   ]
  },
  {
   "cell_type": "markdown",
   "metadata": {},
   "source": [
    "pH visualization"
   ]
  },
  {
   "cell_type": "code",
   "execution_count": 5,
   "metadata": {},
   "outputs": [],
   "source": [
    "ph_cats = ['good', 'fix', 'rick']\n",
    "ph_cat_colors = ['green', 'yellow', 'red']\n",
    "ph_cat_breakpoints = [6.4, 6.8, 7.2, 7.8, 8.2, 8.6]\n",
    "\n",
    "ph_ranges = pd.DataFrame([\n",
    "    {'low': ph_cat_breakpoints[0], 'high': ph_cat_breakpoints[1], 'category': ph_cats[2]},\n",
    "    {'low': ph_cat_breakpoints[1], 'high': ph_cat_breakpoints[2], 'category': ph_cats[1]},\n",
    "    {'low': ph_cat_breakpoints[2], 'high': ph_cat_breakpoints[3], 'category': ph_cats[0]},\n",
    "    {'low': ph_cat_breakpoints[3], 'high': ph_cat_breakpoints[4], 'category': ph_cats[1]},\n",
    "    {'low': ph_cat_breakpoints[4], 'high': ph_cat_breakpoints[5], 'category': ph_cats[2]},\n",
    "])"
   ]
  },
  {
   "cell_type": "code",
   "execution_count": 6,
   "metadata": {},
   "outputs": [
    {
     "data": {
      "text/html": [
       "<div>\n",
       "<style scoped>\n",
       "    .dataframe tbody tr th:only-of-type {\n",
       "        vertical-align: middle;\n",
       "    }\n",
       "\n",
       "    .dataframe tbody tr th {\n",
       "        vertical-align: top;\n",
       "    }\n",
       "\n",
       "    .dataframe thead th {\n",
       "        text-align: right;\n",
       "    }\n",
       "</style>\n",
       "<table border=\"1\" class=\"dataframe\">\n",
       "  <thead>\n",
       "    <tr style=\"text-align: right;\">\n",
       "      <th></th>\n",
       "      <th>date</th>\n",
       "      <th>time</th>\n",
       "      <th>total_hardness</th>\n",
       "      <th>total_chlorine</th>\n",
       "      <th>free_chlorine</th>\n",
       "      <th>ph_strip</th>\n",
       "      <th>total_alkalinity</th>\n",
       "      <th>stabilizer</th>\n",
       "      <th>ph_instrument</th>\n",
       "      <th>water_temp</th>\n",
       "    </tr>\n",
       "  </thead>\n",
       "  <tbody>\n",
       "    <tr>\n",
       "      <th>100</th>\n",
       "      <td>2022-11-05</td>\n",
       "      <td>13:25</td>\n",
       "      <td>250.0</td>\n",
       "      <td>3.0</td>\n",
       "      <td>3.0</td>\n",
       "      <td>6.8</td>\n",
       "      <td>40.0</td>\n",
       "      <td>0.0</td>\n",
       "      <td>8.04</td>\n",
       "      <td>78.8</td>\n",
       "    </tr>\n",
       "    <tr>\n",
       "      <th>101</th>\n",
       "      <td>2022-11-12</td>\n",
       "      <td>8:30</td>\n",
       "      <td>100.0</td>\n",
       "      <td>0.0</td>\n",
       "      <td>0.0</td>\n",
       "      <td>6.8</td>\n",
       "      <td>40.0</td>\n",
       "      <td>0.0</td>\n",
       "      <td>8.07</td>\n",
       "      <td>75.5</td>\n",
       "    </tr>\n",
       "    <tr>\n",
       "      <th>102</th>\n",
       "      <td>2022-11-12</td>\n",
       "      <td>10:57</td>\n",
       "      <td>100.0</td>\n",
       "      <td>3.0</td>\n",
       "      <td>0.0</td>\n",
       "      <td>6.8</td>\n",
       "      <td>40.0</td>\n",
       "      <td>0.0</td>\n",
       "      <td>7.92</td>\n",
       "      <td>76.8</td>\n",
       "    </tr>\n",
       "    <tr>\n",
       "      <th>103</th>\n",
       "      <td>2022-11-13</td>\n",
       "      <td>11:32</td>\n",
       "      <td>100.0</td>\n",
       "      <td>0.0</td>\n",
       "      <td>0.0</td>\n",
       "      <td>6.8</td>\n",
       "      <td>40.0</td>\n",
       "      <td>0.0</td>\n",
       "      <td>7.90</td>\n",
       "      <td>77.0</td>\n",
       "    </tr>\n",
       "    <tr>\n",
       "      <th>104</th>\n",
       "      <td>2022-11-13</td>\n",
       "      <td>13:41</td>\n",
       "      <td>100.0</td>\n",
       "      <td>0.5</td>\n",
       "      <td>0.0</td>\n",
       "      <td>6.8</td>\n",
       "      <td>40.0</td>\n",
       "      <td>0.0</td>\n",
       "      <td>7.87</td>\n",
       "      <td>76.6</td>\n",
       "    </tr>\n",
       "    <tr>\n",
       "      <th>105</th>\n",
       "      <td>2022-11-14</td>\n",
       "      <td>15:02</td>\n",
       "      <td>100.0</td>\n",
       "      <td>0.0</td>\n",
       "      <td>0.0</td>\n",
       "      <td>6.8</td>\n",
       "      <td>40.0</td>\n",
       "      <td>0.0</td>\n",
       "      <td>7.61</td>\n",
       "      <td>76.8</td>\n",
       "    </tr>\n",
       "    <tr>\n",
       "      <th>106</th>\n",
       "      <td>2022-11-14</td>\n",
       "      <td>16:34</td>\n",
       "      <td>100.0</td>\n",
       "      <td>1.0</td>\n",
       "      <td>0.5</td>\n",
       "      <td>6.8</td>\n",
       "      <td>40.0</td>\n",
       "      <td>0.0</td>\n",
       "      <td>7.70</td>\n",
       "      <td>76.2</td>\n",
       "    </tr>\n",
       "    <tr>\n",
       "      <th>107</th>\n",
       "      <td>2022-11-21</td>\n",
       "      <td>10:50</td>\n",
       "      <td>100.0</td>\n",
       "      <td>0.0</td>\n",
       "      <td>0.0</td>\n",
       "      <td>6.8</td>\n",
       "      <td>40.0</td>\n",
       "      <td>0.0</td>\n",
       "      <td>8.17</td>\n",
       "      <td>70.1</td>\n",
       "    </tr>\n",
       "    <tr>\n",
       "      <th>108</th>\n",
       "      <td>2022-11-30</td>\n",
       "      <td>13:49</td>\n",
       "      <td>100.0</td>\n",
       "      <td>0.0</td>\n",
       "      <td>0.0</td>\n",
       "      <td>6.2</td>\n",
       "      <td>40.0</td>\n",
       "      <td>0.0</td>\n",
       "      <td>8.10</td>\n",
       "      <td>73.9</td>\n",
       "    </tr>\n",
       "    <tr>\n",
       "      <th>109</th>\n",
       "      <td>2022-12-01</td>\n",
       "      <td>16:41</td>\n",
       "      <td>100.0</td>\n",
       "      <td>0.5</td>\n",
       "      <td>0.0</td>\n",
       "      <td>6.8</td>\n",
       "      <td>20.0</td>\n",
       "      <td>0.0</td>\n",
       "      <td>7.69</td>\n",
       "      <td>73.7</td>\n",
       "    </tr>\n",
       "    <tr>\n",
       "      <th>110</th>\n",
       "      <td>2022-12-01</td>\n",
       "      <td>17:39</td>\n",
       "      <td>100.0</td>\n",
       "      <td>3.0</td>\n",
       "      <td>1.0</td>\n",
       "      <td>6.8</td>\n",
       "      <td>40.0</td>\n",
       "      <td>0.0</td>\n",
       "      <td>7.77</td>\n",
       "      <td>73.0</td>\n",
       "    </tr>\n",
       "    <tr>\n",
       "      <th>111</th>\n",
       "      <td>2022-12-02</td>\n",
       "      <td>16:54</td>\n",
       "      <td>100.0</td>\n",
       "      <td>1.0</td>\n",
       "      <td>0.0</td>\n",
       "      <td>6.8</td>\n",
       "      <td>40.0</td>\n",
       "      <td>20.0</td>\n",
       "      <td>7.80</td>\n",
       "      <td>73.0</td>\n",
       "    </tr>\n",
       "    <tr>\n",
       "      <th>112</th>\n",
       "      <td>2022-12-05</td>\n",
       "      <td>13:15</td>\n",
       "      <td>100.0</td>\n",
       "      <td>1.0</td>\n",
       "      <td>0.0</td>\n",
       "      <td>6.8</td>\n",
       "      <td>40.0</td>\n",
       "      <td>0.0</td>\n",
       "      <td>7.88</td>\n",
       "      <td>72.5</td>\n",
       "    </tr>\n",
       "    <tr>\n",
       "      <th>113</th>\n",
       "      <td>2022-12-12</td>\n",
       "      <td>13:28</td>\n",
       "      <td>100.0</td>\n",
       "      <td>3.0</td>\n",
       "      <td>2.0</td>\n",
       "      <td>6.8</td>\n",
       "      <td>40.0</td>\n",
       "      <td>0.0</td>\n",
       "      <td>7.87</td>\n",
       "      <td>72.3</td>\n",
       "    </tr>\n",
       "    <tr>\n",
       "      <th>114</th>\n",
       "      <td>2022-12-21</td>\n",
       "      <td>9:18</td>\n",
       "      <td>100.0</td>\n",
       "      <td>3.0</td>\n",
       "      <td>3.0</td>\n",
       "      <td>6.2</td>\n",
       "      <td>40.0</td>\n",
       "      <td>0.0</td>\n",
       "      <td>8.01</td>\n",
       "      <td>66.9</td>\n",
       "    </tr>\n",
       "    <tr>\n",
       "      <th>115</th>\n",
       "      <td>2023-01-04</td>\n",
       "      <td>13:59</td>\n",
       "      <td>100.0</td>\n",
       "      <td>5.0</td>\n",
       "      <td>5.0</td>\n",
       "      <td>6.2</td>\n",
       "      <td>40.0</td>\n",
       "      <td>0.0</td>\n",
       "      <td>7.70</td>\n",
       "      <td>71.7</td>\n",
       "    </tr>\n",
       "    <tr>\n",
       "      <th>116</th>\n",
       "      <td>2023-01-13</td>\n",
       "      <td>12:43</td>\n",
       "      <td>100.0</td>\n",
       "      <td>0.5</td>\n",
       "      <td>0.5</td>\n",
       "      <td>6.8</td>\n",
       "      <td>40.0</td>\n",
       "      <td>0.0</td>\n",
       "      <td>8.03</td>\n",
       "      <td>67.6</td>\n",
       "    </tr>\n",
       "    <tr>\n",
       "      <th>117</th>\n",
       "      <td>2023-01-30</td>\n",
       "      <td>13:31</td>\n",
       "      <td>100.0</td>\n",
       "      <td>0.5</td>\n",
       "      <td>0.5</td>\n",
       "      <td>6.2</td>\n",
       "      <td>40.0</td>\n",
       "      <td>0.0</td>\n",
       "      <td>8.03</td>\n",
       "      <td>71.2</td>\n",
       "    </tr>\n",
       "    <tr>\n",
       "      <th>118</th>\n",
       "      <td>2023-01-30</td>\n",
       "      <td>15:08</td>\n",
       "      <td>100.0</td>\n",
       "      <td>1.0</td>\n",
       "      <td>1.0</td>\n",
       "      <td>6.8</td>\n",
       "      <td>40.0</td>\n",
       "      <td>0.0</td>\n",
       "      <td>7.52</td>\n",
       "      <td>71.7</td>\n",
       "    </tr>\n",
       "    <tr>\n",
       "      <th>119</th>\n",
       "      <td>2023-02-13</td>\n",
       "      <td>17:01</td>\n",
       "      <td>100.0</td>\n",
       "      <td>0.5</td>\n",
       "      <td>0.0</td>\n",
       "      <td>6.8</td>\n",
       "      <td>40.0</td>\n",
       "      <td>0.0</td>\n",
       "      <td>8.13</td>\n",
       "      <td>68.8</td>\n",
       "    </tr>\n",
       "    <tr>\n",
       "      <th>120</th>\n",
       "      <td>2023-02-21</td>\n",
       "      <td>14:05</td>\n",
       "      <td>100.0</td>\n",
       "      <td>1.0</td>\n",
       "      <td>0.0</td>\n",
       "      <td>6.8</td>\n",
       "      <td>40.0</td>\n",
       "      <td>0.0</td>\n",
       "      <td>7.88</td>\n",
       "      <td>78.2</td>\n",
       "    </tr>\n",
       "  </tbody>\n",
       "</table>\n",
       "</div>"
      ],
      "text/plain": [
       "          date   time  total_hardness  total_chlorine  free_chlorine  \\\n",
       "100 2022-11-05  13:25           250.0             3.0            3.0   \n",
       "101 2022-11-12   8:30           100.0             0.0            0.0   \n",
       "102 2022-11-12  10:57           100.0             3.0            0.0   \n",
       "103 2022-11-13  11:32           100.0             0.0            0.0   \n",
       "104 2022-11-13  13:41           100.0             0.5            0.0   \n",
       "105 2022-11-14  15:02           100.0             0.0            0.0   \n",
       "106 2022-11-14  16:34           100.0             1.0            0.5   \n",
       "107 2022-11-21  10:50           100.0             0.0            0.0   \n",
       "108 2022-11-30  13:49           100.0             0.0            0.0   \n",
       "109 2022-12-01  16:41           100.0             0.5            0.0   \n",
       "110 2022-12-01  17:39           100.0             3.0            1.0   \n",
       "111 2022-12-02  16:54           100.0             1.0            0.0   \n",
       "112 2022-12-05  13:15           100.0             1.0            0.0   \n",
       "113 2022-12-12  13:28           100.0             3.0            2.0   \n",
       "114 2022-12-21   9:18           100.0             3.0            3.0   \n",
       "115 2023-01-04  13:59           100.0             5.0            5.0   \n",
       "116 2023-01-13  12:43           100.0             0.5            0.5   \n",
       "117 2023-01-30  13:31           100.0             0.5            0.5   \n",
       "118 2023-01-30  15:08           100.0             1.0            1.0   \n",
       "119 2023-02-13  17:01           100.0             0.5            0.0   \n",
       "120 2023-02-21  14:05           100.0             1.0            0.0   \n",
       "\n",
       "     ph_strip  total_alkalinity  stabilizer  ph_instrument  water_temp  \n",
       "100       6.8              40.0         0.0           8.04        78.8  \n",
       "101       6.8              40.0         0.0           8.07        75.5  \n",
       "102       6.8              40.0         0.0           7.92        76.8  \n",
       "103       6.8              40.0         0.0           7.90        77.0  \n",
       "104       6.8              40.0         0.0           7.87        76.6  \n",
       "105       6.8              40.0         0.0           7.61        76.8  \n",
       "106       6.8              40.0         0.0           7.70        76.2  \n",
       "107       6.8              40.0         0.0           8.17        70.1  \n",
       "108       6.2              40.0         0.0           8.10        73.9  \n",
       "109       6.8              20.0         0.0           7.69        73.7  \n",
       "110       6.8              40.0         0.0           7.77        73.0  \n",
       "111       6.8              40.0        20.0           7.80        73.0  \n",
       "112       6.8              40.0         0.0           7.88        72.5  \n",
       "113       6.8              40.0         0.0           7.87        72.3  \n",
       "114       6.2              40.0         0.0           8.01        66.9  \n",
       "115       6.2              40.0         0.0           7.70        71.7  \n",
       "116       6.8              40.0         0.0           8.03        67.6  \n",
       "117       6.2              40.0         0.0           8.03        71.2  \n",
       "118       6.8              40.0         0.0           7.52        71.7  \n",
       "119       6.8              40.0         0.0           8.13        68.8  \n",
       "120       6.8              40.0         0.0           7.88        78.2  "
      ]
     },
     "execution_count": 6,
     "metadata": {},
     "output_type": "execute_result"
    }
   ],
   "source": [
    "readings.query('date >= \"11/1/2022\"')"
   ]
  },
  {
   "cell_type": "code",
   "execution_count": 7,
   "metadata": {},
   "outputs": [
    {
     "data": {
      "text/html": [
       "\n",
       "<div id=\"altair-viz-12eee7046f5a48d8b097ffec6333cdfc\"></div>\n",
       "<script type=\"text/javascript\">\n",
       "  var VEGA_DEBUG = (typeof VEGA_DEBUG == \"undefined\") ? {} : VEGA_DEBUG;\n",
       "  (function(spec, embedOpt){\n",
       "    let outputDiv = document.currentScript.previousElementSibling;\n",
       "    if (outputDiv.id !== \"altair-viz-12eee7046f5a48d8b097ffec6333cdfc\") {\n",
       "      outputDiv = document.getElementById(\"altair-viz-12eee7046f5a48d8b097ffec6333cdfc\");\n",
       "    }\n",
       "    const paths = {\n",
       "      \"vega\": \"https://cdn.jsdelivr.net/npm//vega@5?noext\",\n",
       "      \"vega-lib\": \"https://cdn.jsdelivr.net/npm//vega-lib?noext\",\n",
       "      \"vega-lite\": \"https://cdn.jsdelivr.net/npm//vega-lite@4.17.0?noext\",\n",
       "      \"vega-embed\": \"https://cdn.jsdelivr.net/npm//vega-embed@6?noext\",\n",
       "    };\n",
       "\n",
       "    function maybeLoadScript(lib, version) {\n",
       "      var key = `${lib.replace(\"-\", \"\")}_version`;\n",
       "      return (VEGA_DEBUG[key] == version) ?\n",
       "        Promise.resolve(paths[lib]) :\n",
       "        new Promise(function(resolve, reject) {\n",
       "          var s = document.createElement('script');\n",
       "          document.getElementsByTagName(\"head\")[0].appendChild(s);\n",
       "          s.async = true;\n",
       "          s.onload = () => {\n",
       "            VEGA_DEBUG[key] = version;\n",
       "            return resolve(paths[lib]);\n",
       "          };\n",
       "          s.onerror = () => reject(`Error loading script: ${paths[lib]}`);\n",
       "          s.src = paths[lib];\n",
       "        });\n",
       "    }\n",
       "\n",
       "    function showError(err) {\n",
       "      outputDiv.innerHTML = `<div class=\"error\" style=\"color:red;\">${err}</div>`;\n",
       "      throw err;\n",
       "    }\n",
       "\n",
       "    function displayChart(vegaEmbed) {\n",
       "      vegaEmbed(outputDiv, spec, embedOpt)\n",
       "        .catch(err => showError(`Javascript Error: ${err.message}<br>This usually means there's a typo in your chart specification. See the javascript console for the full traceback.`));\n",
       "    }\n",
       "\n",
       "    if(typeof define === \"function\" && define.amd) {\n",
       "      requirejs.config({paths});\n",
       "      require([\"vega-embed\"], displayChart, err => showError(`Error loading script: ${err.message}`));\n",
       "    } else {\n",
       "      maybeLoadScript(\"vega\", \"5\")\n",
       "        .then(() => maybeLoadScript(\"vega-lite\", \"4.17.0\"))\n",
       "        .then(() => maybeLoadScript(\"vega-embed\", \"6\"))\n",
       "        .catch(showError)\n",
       "        .then(() => displayChart(vegaEmbed));\n",
       "    }\n",
       "  })({\"config\": {\"view\": {\"continuousWidth\": 400, \"continuousHeight\": 300}}, \"layer\": [{\"data\": {\"name\": \"data-18b98d4426c5dfb24dfddbeffcfc6075\"}, \"mark\": {\"type\": \"rect\", \"opacity\": 0.5}, \"encoding\": {\"color\": {\"field\": \"category\", \"scale\": {\"domain\": [\"good\", \"fix\", \"rick\"], \"range\": [\"green\", \"yellow\", \"red\"]}, \"type\": \"nominal\"}, \"y\": {\"field\": \"low\", \"scale\": {\"domain\": [6.5, 8.5]}, \"type\": \"quantitative\"}, \"y2\": {\"field\": \"high\"}}}, {\"data\": {\"name\": \"data-ed3531e217520b640ad902841eefb82f\"}, \"mark\": {\"type\": \"line\", \"color\": \"#333\"}, \"encoding\": {\"x\": {\"axis\": {\"format\": \"%m/%d\"}, \"field\": \"date\", \"title\": null, \"type\": \"temporal\"}, \"y\": {\"field\": \"ph_instrument\", \"title\": \"pH\", \"type\": \"quantitative\"}}, \"height\": 300, \"width\": 500}, {\"data\": {\"name\": \"data-ed3531e217520b640ad902841eefb82f\"}, \"mark\": {\"type\": \"point\", \"color\": \"#333\"}, \"encoding\": {\"x\": {\"axis\": {\"format\": \"%m/%d\"}, \"field\": \"date\", \"title\": null, \"type\": \"temporal\"}, \"y\": {\"field\": \"ph_instrument\", \"title\": \"pH\", \"type\": \"quantitative\"}}, \"height\": 300, \"width\": 500}], \"$schema\": \"https://vega.github.io/schema/vega-lite/v4.17.0.json\", \"datasets\": {\"data-18b98d4426c5dfb24dfddbeffcfc6075\": [{\"low\": 6.4, \"high\": 6.8, \"category\": \"rick\"}, {\"low\": 6.8, \"high\": 7.2, \"category\": \"fix\"}, {\"low\": 7.2, \"high\": 7.8, \"category\": \"good\"}, {\"low\": 7.8, \"high\": 8.2, \"category\": \"fix\"}, {\"low\": 8.2, \"high\": 8.6, \"category\": \"rick\"}], \"data-ed3531e217520b640ad902841eefb82f\": [{\"date\": \"2022-05-07T00:00:00\", \"total_hardness\": 500.0, \"total_chlorine\": 5.0, \"free_chlorine\": 5.0, \"ph_strip\": null, \"total_alkalinity\": 120.0, \"stabilizer\": 50.0, \"ph_instrument\": 7.8, \"water_temp\": null}, {\"date\": \"2022-05-14T00:00:00\", \"total_hardness\": 500.0, \"total_chlorine\": 1.0, \"free_chlorine\": 0.0, \"ph_strip\": null, \"total_alkalinity\": 40.0, \"stabilizer\": 0.0, \"ph_instrument\": 7.6, \"water_temp\": 83.1}, {\"date\": \"2022-05-19T00:00:00\", \"total_hardness\": 250.0, \"total_chlorine\": 3.0, \"free_chlorine\": 3.0, \"ph_strip\": null, \"total_alkalinity\": 40.0, \"stabilizer\": 50.0, \"ph_instrument\": 7.7, \"water_temp\": 85.4}, {\"date\": \"2022-05-21T00:00:00\", \"total_hardness\": 500.0, \"total_chlorine\": 3.0, \"free_chlorine\": 1.0, \"ph_strip\": null, \"total_alkalinity\": 40.0, \"stabilizer\": 0.0, \"ph_instrument\": 7.7, \"water_temp\": 80.9}, {\"date\": \"2022-05-25T00:00:00\", \"total_hardness\": 500.0, \"total_chlorine\": 3.0, \"free_chlorine\": 1.0, \"ph_strip\": null, \"total_alkalinity\": 40.0, \"stabilizer\": 0.0, \"ph_instrument\": 7.6, \"water_temp\": 82.0}, {\"date\": \"2022-05-28T00:00:00\", \"total_hardness\": 500.0, \"total_chlorine\": 1.0, \"free_chlorine\": 1.0, \"ph_strip\": null, \"total_alkalinity\": 40.0, \"stabilizer\": 0.0, \"ph_instrument\": 7.7, \"water_temp\": 82.0}, {\"date\": \"2022-06-01T00:00:00\", \"total_hardness\": 500.0, \"total_chlorine\": 1.0, \"free_chlorine\": 1.0, \"ph_strip\": null, \"total_alkalinity\": 40.0, \"stabilizer\": 50.0, \"ph_instrument\": 7.8, \"water_temp\": 84.5}, {\"date\": \"2022-06-04T00:00:00\", \"total_hardness\": 250.0, \"total_chlorine\": 0.0, \"free_chlorine\": 0.0, \"ph_strip\": null, \"total_alkalinity\": 40.0, \"stabilizer\": 50.0, \"ph_instrument\": 7.9, \"water_temp\": 79.8}, {\"date\": \"2022-06-05T00:00:00\", \"total_hardness\": 500.0, \"total_chlorine\": 1.0, \"free_chlorine\": 0.0, \"ph_strip\": null, \"total_alkalinity\": 40.0, \"stabilizer\": 50.0, \"ph_instrument\": 7.6, \"water_temp\": 85.2}, {\"date\": \"2022-06-11T00:00:00\", \"total_hardness\": 500.0, \"total_chlorine\": 3.0, \"free_chlorine\": 3.0, \"ph_strip\": null, \"total_alkalinity\": 40.0, \"stabilizer\": 50.0, \"ph_instrument\": 7.7, \"water_temp\": 84.2}, {\"date\": \"2022-06-14T00:00:00\", \"total_hardness\": 500.0, \"total_chlorine\": 1.0, \"free_chlorine\": 1.0, \"ph_strip\": null, \"total_alkalinity\": 40.0, \"stabilizer\": 50.0, \"ph_instrument\": 7.7, \"water_temp\": 86.7}, {\"date\": \"2022-06-15T00:00:00\", \"total_hardness\": 500.0, \"total_chlorine\": 3.0, \"free_chlorine\": 3.0, \"ph_strip\": null, \"total_alkalinity\": 120.0, \"stabilizer\": 50.0, \"ph_instrument\": 7.6, \"water_temp\": 87.4}, {\"date\": \"2022-06-18T00:00:00\", \"total_hardness\": 500.0, \"total_chlorine\": 3.0, \"free_chlorine\": 1.0, \"ph_strip\": null, \"total_alkalinity\": 40.0, \"stabilizer\": 50.0, \"ph_instrument\": 7.7, \"water_temp\": 85.4}, {\"date\": \"2022-06-20T00:00:00\", \"total_hardness\": 500.0, \"total_chlorine\": 1.0, \"free_chlorine\": 1.0, \"ph_strip\": null, \"total_alkalinity\": 40.0, \"stabilizer\": 50.0, \"ph_instrument\": 7.6, \"water_temp\": 88.3}, {\"date\": \"2022-06-22T00:00:00\", \"total_hardness\": 250.0, \"total_chlorine\": 2.0, \"free_chlorine\": 1.5, \"ph_strip\": 6.8, \"total_alkalinity\": 40.0, \"stabilizer\": 0.0, \"ph_instrument\": 7.5, \"water_temp\": 83.8}, {\"date\": \"2022-06-24T00:00:00\", \"total_hardness\": 500.0, \"total_chlorine\": 3.0, \"free_chlorine\": 1.0, \"ph_strip\": 6.8, \"total_alkalinity\": 40.0, \"stabilizer\": 0.0, \"ph_instrument\": 7.5, \"water_temp\": 86.3}, {\"date\": \"2022-06-25T00:00:00\", \"total_hardness\": 500.0, \"total_chlorine\": 3.0, \"free_chlorine\": 3.0, \"ph_strip\": 6.8, \"total_alkalinity\": 40.0, \"stabilizer\": 0.0, \"ph_instrument\": 7.6, \"water_temp\": 86.3}, {\"date\": \"2022-06-28T00:00:00\", \"total_hardness\": 250.0, \"total_chlorine\": 0.5, \"free_chlorine\": 0.0, \"ph_strip\": 6.8, \"total_alkalinity\": 40.0, \"stabilizer\": 0.0, \"ph_instrument\": 7.6, \"water_temp\": 87.3}, {\"date\": \"2022-06-30T00:00:00\", \"total_hardness\": 250.0, \"total_chlorine\": 3.0, \"free_chlorine\": 3.0, \"ph_strip\": 6.8, \"total_alkalinity\": 40.0, \"stabilizer\": 0.0, \"ph_instrument\": 7.6, \"water_temp\": 84.5}, {\"date\": \"2022-07-02T00:00:00\", \"total_hardness\": 250.0, \"total_chlorine\": 3.0, \"free_chlorine\": 1.0, \"ph_strip\": 6.8, \"total_alkalinity\": 20.0, \"stabilizer\": 0.0, \"ph_instrument\": 7.5, \"water_temp\": 85.4}, {\"date\": \"2022-07-04T00:00:00\", \"total_hardness\": 250.0, \"total_chlorine\": 4.0, \"free_chlorine\": 1.5, \"ph_strip\": 6.8, \"total_alkalinity\": 20.0, \"stabilizer\": 0.0, \"ph_instrument\": 7.5, \"water_temp\": 88.6}, {\"date\": \"2022-07-07T00:00:00\", \"total_hardness\": 250.0, \"total_chlorine\": 15.0, \"free_chlorine\": 6.5, \"ph_strip\": 6.2, \"total_alkalinity\": 20.0, \"stabilizer\": 0.0, \"ph_instrument\": 7.300000000000001, \"water_temp\": 87.7}, {\"date\": \"2022-07-28T00:00:00\", \"total_hardness\": 250.0, \"total_chlorine\": 3.0, \"free_chlorine\": 3.0, \"ph_strip\": 6.8, \"total_alkalinity\": 20.0, \"stabilizer\": 40.0, \"ph_instrument\": 7.6, \"water_temp\": 85.6}, {\"date\": \"2022-08-03T00:00:00\", \"total_hardness\": 250.0, \"total_chlorine\": 3.0, \"free_chlorine\": 3.0, \"ph_strip\": 6.8, \"total_alkalinity\": 40.0, \"stabilizer\": 50.0, \"ph_instrument\": 7.7, \"water_temp\": 85.7}, {\"date\": \"2022-08-06T00:00:00\", \"total_hardness\": 250.0, \"total_chlorine\": 3.0, \"free_chlorine\": 2.5, \"ph_strip\": 6.8, \"total_alkalinity\": 30.0, \"stabilizer\": 20.0, \"ph_instrument\": 7.6, \"water_temp\": 87.25}, {\"date\": \"2022-08-13T00:00:00\", \"total_hardness\": 250.0, \"total_chlorine\": 1.0, \"free_chlorine\": 0.75, \"ph_strip\": 6.8, \"total_alkalinity\": 30.0, \"stabilizer\": 20.0, \"ph_instrument\": 7.7, \"water_temp\": 85.75}, {\"date\": \"2022-08-17T00:00:00\", \"total_hardness\": 250.0, \"total_chlorine\": 1.0, \"free_chlorine\": 0.5, \"ph_strip\": 6.8, \"total_alkalinity\": 40.0, \"stabilizer\": 40.0, \"ph_instrument\": 7.8, \"water_temp\": 88.3}, {\"date\": \"2022-08-21T00:00:00\", \"total_hardness\": 250.0, \"total_chlorine\": 1.0, \"free_chlorine\": 0.5, \"ph_strip\": 6.8, \"total_alkalinity\": 40.0, \"stabilizer\": 40.0, \"ph_instrument\": 7.8, \"water_temp\": 88.1}, {\"date\": \"2022-08-24T00:00:00\", \"total_hardness\": 250.0, \"total_chlorine\": 3.0, \"free_chlorine\": 3.0, \"ph_strip\": 6.8, \"total_alkalinity\": 40.0, \"stabilizer\": 40.0, \"ph_instrument\": 7.8, \"water_temp\": 89.4}, {\"date\": \"2022-08-27T00:00:00\", \"total_hardness\": 250.0, \"total_chlorine\": 3.0, \"free_chlorine\": 2.0, \"ph_strip\": 6.8, \"total_alkalinity\": 40.0, \"stabilizer\": 40.0, \"ph_instrument\": 7.75, \"water_temp\": 87.30000000000001}, {\"date\": \"2022-09-03T00:00:00\", \"total_hardness\": 500.0, \"total_chlorine\": 3.0, \"free_chlorine\": 1.0, \"ph_strip\": 6.8, \"total_alkalinity\": 40.0, \"stabilizer\": 40.0, \"ph_instrument\": 7.609999999999999, \"water_temp\": 88.475}, {\"date\": \"2022-09-07T00:00:00\", \"total_hardness\": 300.0, \"total_chlorine\": 2.2, \"free_chlorine\": 1.0, \"ph_strip\": 6.8, \"total_alkalinity\": 40.0, \"stabilizer\": 40.0, \"ph_instrument\": 7.718000000000001, \"water_temp\": 88.47999999999999}, {\"date\": \"2022-09-08T00:00:00\", \"total_hardness\": 250.0, \"total_chlorine\": 3.0, \"free_chlorine\": 3.0, \"ph_strip\": 6.8, \"total_alkalinity\": 40.0, \"stabilizer\": 20.0, \"ph_instrument\": 7.71, \"water_temp\": 86.1}, {\"date\": \"2022-09-09T00:00:00\", \"total_hardness\": 300.0, \"total_chlorine\": 5.0, \"free_chlorine\": 3.0, \"ph_strip\": 6.2, \"total_alkalinity\": 30.0, \"stabilizer\": 20.0, \"ph_instrument\": 7.675000000000001, \"water_temp\": 87.2}, {\"date\": \"2022-09-10T00:00:00\", \"total_hardness\": 250.0, \"total_chlorine\": 8.75, \"free_chlorine\": 8.125, \"ph_strip\": 6.9, \"total_alkalinity\": 25.0, \"stabilizer\": 10.0, \"ph_instrument\": 7.6425, \"water_temp\": 86.25}, {\"date\": \"2022-09-11T00:00:00\", \"total_hardness\": 250.0, \"total_chlorine\": 99.0, \"free_chlorine\": 99.0, \"ph_strip\": 6.8, \"total_alkalinity\": 20.0, \"stabilizer\": 0.0, \"ph_instrument\": 7.55, \"water_temp\": 86.3}, {\"date\": \"2022-09-12T00:00:00\", \"total_hardness\": 250.0, \"total_chlorine\": 10.0, \"free_chlorine\": 10.0, \"ph_strip\": 6.8, \"total_alkalinity\": 20.0, \"stabilizer\": 0.0, \"ph_instrument\": 7.613333333333333, \"water_temp\": 85.93333333333334}, {\"date\": \"2022-09-13T00:00:00\", \"total_hardness\": 250.0, \"total_chlorine\": 7.5, \"free_chlorine\": 7.0, \"ph_strip\": 6.8, \"total_alkalinity\": 30.0, \"stabilizer\": 20.0, \"ph_instrument\": 7.609999999999999, \"water_temp\": 84.2}, {\"date\": \"2022-09-14T00:00:00\", \"total_hardness\": 250.0, \"total_chlorine\": 5.0, \"free_chlorine\": 5.0, \"ph_strip\": 6.8, \"total_alkalinity\": 40.0, \"stabilizer\": 40.0, \"ph_instrument\": 7.63, \"water_temp\": 85.9}, {\"date\": \"2022-09-15T00:00:00\", \"total_hardness\": 250.0, \"total_chlorine\": 10.0, \"free_chlorine\": 4.0, \"ph_strip\": 6.8, \"total_alkalinity\": 20.0, \"stabilizer\": 0.0, \"ph_instrument\": 7.7, \"water_temp\": 84.0}, {\"date\": \"2022-09-16T00:00:00\", \"total_hardness\": 250.0, \"total_chlorine\": 10.0, \"free_chlorine\": 4.0, \"ph_strip\": 6.8, \"total_alkalinity\": 20.0, \"stabilizer\": 0.0, \"ph_instrument\": 7.74, \"water_temp\": 84.9}, {\"date\": \"2022-09-17T00:00:00\", \"total_hardness\": 281.25, \"total_chlorine\": 99.0, \"free_chlorine\": 79.25, \"ph_strip\": 7.5, \"total_alkalinity\": 105.0, \"stabilizer\": 55.0, \"ph_instrument\": 7.9425, \"water_temp\": 83.35}, {\"date\": \"2022-09-18T00:00:00\", \"total_hardness\": 250.0, \"total_chlorine\": 38.0, \"free_chlorine\": 11.666666666666666, \"ph_strip\": 6.933333333333334, \"total_alkalinity\": 80.0, \"stabilizer\": 40.0, \"ph_instrument\": 7.796666666666667, \"water_temp\": 82.91666666666667}, {\"date\": \"2022-09-19T00:00:00\", \"total_hardness\": 250.0, \"total_chlorine\": 69.33333333333333, \"free_chlorine\": 69.33333333333333, \"ph_strip\": 7.266666666666667, \"total_alkalinity\": 53.333333333333336, \"stabilizer\": 13.333333333333334, \"ph_instrument\": 7.613333333333333, \"water_temp\": 83.06666666666666}, {\"date\": \"2022-09-20T00:00:00\", \"total_hardness\": 250.0, \"total_chlorine\": 6.5, \"free_chlorine\": 5.25, \"ph_strip\": 6.8, \"total_alkalinity\": 40.0, \"stabilizer\": 30.0, \"ph_instrument\": 7.699999999999999, \"water_temp\": 85.0}, {\"date\": \"2022-09-21T00:00:00\", \"total_hardness\": 250.0, \"total_chlorine\": 0.8333333333333334, \"free_chlorine\": 0.25, \"ph_strip\": 6.466666666666666, \"total_alkalinity\": 46.666666666666664, \"stabilizer\": 6.666666666666667, \"ph_instrument\": 7.358333333333333, \"water_temp\": 84.5}, {\"date\": \"2022-09-22T00:00:00\", \"total_hardness\": 250.0, \"total_chlorine\": 2.5, \"free_chlorine\": 1.75, \"ph_strip\": 6.5, \"total_alkalinity\": 40.0, \"stabilizer\": 0.0, \"ph_instrument\": 7.465, \"water_temp\": 82.95}, {\"date\": \"2022-09-23T00:00:00\", \"total_hardness\": 250.0, \"total_chlorine\": 3.0, \"free_chlorine\": 2.0, \"ph_strip\": 6.2, \"total_alkalinity\": 40.0, \"stabilizer\": 0.0, \"ph_instrument\": 7.623333333333334, \"water_temp\": 83.66666666666667}, {\"date\": \"2022-09-24T00:00:00\", \"total_hardness\": 250.0, \"total_chlorine\": 3.0, \"free_chlorine\": 1.0, \"ph_strip\": 6.2, \"total_alkalinity\": 40.0, \"stabilizer\": 0.0, \"ph_instrument\": 7.69, \"water_temp\": 82.7}, {\"date\": \"2022-09-25T00:00:00\", \"total_hardness\": 250.0, \"total_chlorine\": 5.0, \"free_chlorine\": 5.0, \"ph_strip\": 6.2, \"total_alkalinity\": 40.0, \"stabilizer\": 0.0, \"ph_instrument\": 7.62, \"water_temp\": 84.2}, {\"date\": \"2022-09-26T00:00:00\", \"total_hardness\": 250.0, \"total_chlorine\": 5.0, \"free_chlorine\": 5.0, \"ph_strip\": 6.2, \"total_alkalinity\": 40.0, \"stabilizer\": 0.0, \"ph_instrument\": 7.71, \"water_temp\": 82.7}, {\"date\": \"2022-09-28T00:00:00\", \"total_hardness\": 250.0, \"total_chlorine\": 5.0, \"free_chlorine\": 5.0, \"ph_strip\": 6.8, \"total_alkalinity\": 40.0, \"stabilizer\": 0.0, \"ph_instrument\": 7.84, \"water_temp\": 79.1}, {\"date\": \"2022-09-30T00:00:00\", \"total_hardness\": 250.0, \"total_chlorine\": 3.0, \"free_chlorine\": 3.0, \"ph_strip\": 6.2, \"total_alkalinity\": 40.0, \"stabilizer\": 0.0, \"ph_instrument\": 7.82, \"water_temp\": 78.4}, {\"date\": \"2022-10-05T00:00:00\", \"total_hardness\": 250.0, \"total_chlorine\": 3.0, \"free_chlorine\": 0.0, \"ph_strip\": 6.8, \"total_alkalinity\": 40.0, \"stabilizer\": 0.0, \"ph_instrument\": 7.77, \"water_temp\": 76.8}, {\"date\": \"2022-10-08T00:00:00\", \"total_hardness\": 250.0, \"total_chlorine\": 3.0, \"free_chlorine\": 0.0, \"ph_strip\": 6.8, \"total_alkalinity\": 40.0, \"stabilizer\": 0.0, \"ph_instrument\": 7.89, \"water_temp\": 77.3}, {\"date\": \"2022-10-12T00:00:00\", \"total_hardness\": 250.0, \"total_chlorine\": 5.0, \"free_chlorine\": 5.0, \"ph_strip\": 6.8, \"total_alkalinity\": 40.0, \"stabilizer\": 0.0, \"ph_instrument\": 8.06, \"water_temp\": 81.3}, {\"date\": \"2022-10-19T00:00:00\", \"total_hardness\": 250.0, \"total_chlorine\": 5.0, \"free_chlorine\": 4.0, \"ph_strip\": 6.8, \"total_alkalinity\": 40.0, \"stabilizer\": 0.0, \"ph_instrument\": 7.88, \"water_temp\": 74.8}, {\"date\": \"2022-10-22T00:00:00\", \"total_hardness\": 250.0, \"total_chlorine\": 5.0, \"free_chlorine\": 4.0, \"ph_strip\": 6.8, \"total_alkalinity\": 40.0, \"stabilizer\": 0.0, \"ph_instrument\": 7.75, \"water_temp\": 73.7}, {\"date\": \"2022-10-27T00:00:00\", \"total_hardness\": 250.0, \"total_chlorine\": 3.0, \"free_chlorine\": 1.0, \"ph_strip\": 6.8, \"total_alkalinity\": 40.0, \"stabilizer\": 0.0, \"ph_instrument\": 7.94, \"water_temp\": 77.7}, {\"date\": \"2022-11-05T00:00:00\", \"total_hardness\": 250.0, \"total_chlorine\": 3.0, \"free_chlorine\": 3.0, \"ph_strip\": 6.8, \"total_alkalinity\": 40.0, \"stabilizer\": 0.0, \"ph_instrument\": 8.04, \"water_temp\": 78.8}, {\"date\": \"2022-11-12T00:00:00\", \"total_hardness\": 100.0, \"total_chlorine\": 1.5, \"free_chlorine\": 0.0, \"ph_strip\": 6.8, \"total_alkalinity\": 40.0, \"stabilizer\": 0.0, \"ph_instrument\": 7.995, \"water_temp\": 76.15}, {\"date\": \"2022-11-13T00:00:00\", \"total_hardness\": 100.0, \"total_chlorine\": 0.25, \"free_chlorine\": 0.0, \"ph_strip\": 6.8, \"total_alkalinity\": 40.0, \"stabilizer\": 0.0, \"ph_instrument\": 7.885, \"water_temp\": 76.8}, {\"date\": \"2022-11-14T00:00:00\", \"total_hardness\": 100.0, \"total_chlorine\": 0.5, \"free_chlorine\": 0.25, \"ph_strip\": 6.8, \"total_alkalinity\": 40.0, \"stabilizer\": 0.0, \"ph_instrument\": 7.655, \"water_temp\": 76.5}, {\"date\": \"2022-11-21T00:00:00\", \"total_hardness\": 100.0, \"total_chlorine\": 0.0, \"free_chlorine\": 0.0, \"ph_strip\": 6.8, \"total_alkalinity\": 40.0, \"stabilizer\": 0.0, \"ph_instrument\": 8.17, \"water_temp\": 70.1}, {\"date\": \"2022-11-30T00:00:00\", \"total_hardness\": 100.0, \"total_chlorine\": 0.0, \"free_chlorine\": 0.0, \"ph_strip\": 6.2, \"total_alkalinity\": 40.0, \"stabilizer\": 0.0, \"ph_instrument\": 8.1, \"water_temp\": 73.9}, {\"date\": \"2022-12-01T00:00:00\", \"total_hardness\": 100.0, \"total_chlorine\": 1.75, \"free_chlorine\": 0.5, \"ph_strip\": 6.8, \"total_alkalinity\": 30.0, \"stabilizer\": 0.0, \"ph_instrument\": 7.73, \"water_temp\": 73.35}, {\"date\": \"2022-12-02T00:00:00\", \"total_hardness\": 100.0, \"total_chlorine\": 1.0, \"free_chlorine\": 0.0, \"ph_strip\": 6.8, \"total_alkalinity\": 40.0, \"stabilizer\": 20.0, \"ph_instrument\": 7.8, \"water_temp\": 73.0}, {\"date\": \"2022-12-05T00:00:00\", \"total_hardness\": 100.0, \"total_chlorine\": 1.0, \"free_chlorine\": 0.0, \"ph_strip\": 6.8, \"total_alkalinity\": 40.0, \"stabilizer\": 0.0, \"ph_instrument\": 7.88, \"water_temp\": 72.5}, {\"date\": \"2022-12-12T00:00:00\", \"total_hardness\": 100.0, \"total_chlorine\": 3.0, \"free_chlorine\": 2.0, \"ph_strip\": 6.8, \"total_alkalinity\": 40.0, \"stabilizer\": 0.0, \"ph_instrument\": 7.87, \"water_temp\": 72.3}, {\"date\": \"2022-12-21T00:00:00\", \"total_hardness\": 100.0, \"total_chlorine\": 3.0, \"free_chlorine\": 3.0, \"ph_strip\": 6.2, \"total_alkalinity\": 40.0, \"stabilizer\": 0.0, \"ph_instrument\": 8.01, \"water_temp\": 66.9}, {\"date\": \"2023-01-04T00:00:00\", \"total_hardness\": 100.0, \"total_chlorine\": 5.0, \"free_chlorine\": 5.0, \"ph_strip\": 6.2, \"total_alkalinity\": 40.0, \"stabilizer\": 0.0, \"ph_instrument\": 7.7, \"water_temp\": 71.7}, {\"date\": \"2023-01-13T00:00:00\", \"total_hardness\": 100.0, \"total_chlorine\": 0.5, \"free_chlorine\": 0.5, \"ph_strip\": 6.8, \"total_alkalinity\": 40.0, \"stabilizer\": 0.0, \"ph_instrument\": 8.03, \"water_temp\": 67.6}, {\"date\": \"2023-01-30T00:00:00\", \"total_hardness\": 100.0, \"total_chlorine\": 0.75, \"free_chlorine\": 0.75, \"ph_strip\": 6.5, \"total_alkalinity\": 40.0, \"stabilizer\": 0.0, \"ph_instrument\": 7.7749999999999995, \"water_temp\": 71.45}, {\"date\": \"2023-02-13T00:00:00\", \"total_hardness\": 100.0, \"total_chlorine\": 0.5, \"free_chlorine\": 0.0, \"ph_strip\": 6.8, \"total_alkalinity\": 40.0, \"stabilizer\": 0.0, \"ph_instrument\": 8.13, \"water_temp\": 68.8}, {\"date\": \"2023-02-21T00:00:00\", \"total_hardness\": 100.0, \"total_chlorine\": 1.0, \"free_chlorine\": 0.0, \"ph_strip\": 6.8, \"total_alkalinity\": 40.0, \"stabilizer\": 0.0, \"ph_instrument\": 7.88, \"water_temp\": 78.2}]}}, {\"mode\": \"vega-lite\"});\n",
       "</script>"
      ],
      "text/plain": [
       "alt.LayerChart(...)"
      ]
     },
     "execution_count": 7,
     "metadata": {},
     "output_type": "execute_result"
    }
   ],
   "source": [
    "base = alt.Chart(readings.groupby('date', as_index=False).mean()).encode(\n",
    "    x=alt.X('date:T', axis=alt.Axis(format='%m/%d'), title=None),\n",
    ").properties(\n",
    "    width=500,\n",
    "    height=300\n",
    ")\n",
    "\n",
    "line = base.mark_line(color='#333').encode(\n",
    "    alt.Y('ph_instrument:Q', title='pH')\n",
    ")\n",
    "\n",
    "points = line.mark_point(color='#333')\n",
    "\n",
    "zones = alt.Chart(ph_ranges).mark_rect(opacity=.5).encode(\n",
    "    y=alt.Y('low', scale=alt.Scale(domain=(6.5, 8.5))),\n",
    "    y2='high',\n",
    "    color=alt.Color('category:N', scale=alt.Scale(domain=ph_cats, range=ph_cat_colors))\n",
    ")\n",
    "\n",
    "# free_chlorine_line = base.mark_line(color='blue').encode(\n",
    "#     alt.Y('free_chlorine:Q', title='Free Chlorine')\n",
    "# )\n",
    "\n",
    "zones + line + points"
   ]
  },
  {
   "cell_type": "markdown",
   "metadata": {},
   "source": [
    "Chlorine visualization"
   ]
  },
  {
   "cell_type": "code",
   "execution_count": 8,
   "metadata": {},
   "outputs": [
    {
     "data": {
      "application/vnd.plotly.v1+json": {
       "config": {
        "plotlyServerURL": "https://plot.ly"
       },
       "data": [
        {
         "alignmentgroup": "True",
         "hovertemplate": "variable=total_chlorine<br>date=%{x}<br>value=%{y}<extra></extra>",
         "legendgroup": "total_chlorine",
         "marker": {
          "color": "#636efa",
          "pattern": {
           "shape": ""
          }
         },
         "name": "total_chlorine",
         "offsetgroup": "total_chlorine",
         "orientation": "v",
         "showlegend": true,
         "textposition": "auto",
         "type": "bar",
         "x": [
          "2022-05-07T00:00:00",
          "2022-05-14T00:00:00",
          "2022-05-19T00:00:00",
          "2022-05-21T00:00:00",
          "2022-05-25T00:00:00",
          "2022-05-28T00:00:00",
          "2022-06-01T00:00:00",
          "2022-06-04T00:00:00",
          "2022-06-05T00:00:00",
          "2022-06-11T00:00:00",
          "2022-06-14T00:00:00",
          "2022-06-15T00:00:00",
          "2022-06-18T00:00:00",
          "2022-06-20T00:00:00",
          "2022-06-22T00:00:00",
          "2022-06-24T00:00:00",
          "2022-06-25T00:00:00",
          "2022-06-28T00:00:00",
          "2022-06-30T00:00:00",
          "2022-07-02T00:00:00",
          "2022-07-04T00:00:00",
          "2022-07-07T00:00:00",
          "2022-07-28T00:00:00",
          "2022-08-03T00:00:00",
          "2022-08-06T00:00:00",
          "2022-08-13T00:00:00",
          "2022-08-17T00:00:00",
          "2022-08-21T00:00:00",
          "2022-08-24T00:00:00",
          "2022-08-27T00:00:00",
          "2022-09-03T00:00:00",
          "2022-09-07T00:00:00",
          "2022-09-08T00:00:00",
          "2022-09-09T00:00:00",
          "2022-09-10T00:00:00",
          "2022-09-11T00:00:00",
          "2022-09-12T00:00:00",
          "2022-09-13T00:00:00",
          "2022-09-14T00:00:00",
          "2022-09-15T00:00:00",
          "2022-09-16T00:00:00",
          "2022-09-17T00:00:00",
          "2022-09-18T00:00:00",
          "2022-09-19T00:00:00",
          "2022-09-20T00:00:00",
          "2022-09-21T00:00:00",
          "2022-09-22T00:00:00",
          "2022-09-23T00:00:00",
          "2022-09-24T00:00:00",
          "2022-09-25T00:00:00",
          "2022-09-26T00:00:00",
          "2022-09-28T00:00:00",
          "2022-09-30T00:00:00",
          "2022-10-05T00:00:00",
          "2022-10-08T00:00:00",
          "2022-10-12T00:00:00",
          "2022-10-19T00:00:00",
          "2022-10-22T00:00:00",
          "2022-10-27T00:00:00",
          "2022-11-05T00:00:00",
          "2022-11-12T00:00:00",
          "2022-11-13T00:00:00",
          "2022-11-14T00:00:00",
          "2022-11-21T00:00:00",
          "2022-11-30T00:00:00",
          "2022-12-01T00:00:00",
          "2022-12-02T00:00:00",
          "2022-12-05T00:00:00",
          "2022-12-12T00:00:00",
          "2022-12-21T00:00:00",
          "2023-01-04T00:00:00",
          "2023-01-13T00:00:00",
          "2023-01-30T00:00:00",
          "2023-02-13T00:00:00",
          "2023-02-21T00:00:00"
         ],
         "xaxis": "x",
         "y": [
          5,
          1,
          3,
          3,
          3,
          1,
          1,
          0,
          1,
          3,
          1,
          3,
          3,
          1,
          2,
          3,
          3,
          0.5,
          3,
          3,
          4,
          15,
          3,
          3,
          3,
          1,
          1,
          1,
          3,
          3,
          3,
          2.2,
          3,
          5,
          8.75,
          99,
          10,
          7.5,
          5,
          10,
          10,
          99,
          38,
          69.33333333333333,
          6.5,
          0.8333333333333334,
          2.5,
          3,
          3,
          5,
          5,
          5,
          3,
          3,
          3,
          5,
          5,
          5,
          3,
          3,
          1.5,
          0.25,
          0.5,
          0,
          0,
          1.75,
          1,
          1,
          3,
          3,
          5,
          0.5,
          0.75,
          0.5,
          1
         ],
         "yaxis": "y"
        },
        {
         "alignmentgroup": "True",
         "hovertemplate": "variable=free_chlorine<br>date=%{x}<br>value=%{y}<extra></extra>",
         "legendgroup": "free_chlorine",
         "marker": {
          "color": "#EF553B",
          "pattern": {
           "shape": ""
          }
         },
         "name": "free_chlorine",
         "offsetgroup": "free_chlorine",
         "orientation": "v",
         "showlegend": true,
         "textposition": "auto",
         "type": "bar",
         "x": [
          "2022-05-07T00:00:00",
          "2022-05-14T00:00:00",
          "2022-05-19T00:00:00",
          "2022-05-21T00:00:00",
          "2022-05-25T00:00:00",
          "2022-05-28T00:00:00",
          "2022-06-01T00:00:00",
          "2022-06-04T00:00:00",
          "2022-06-05T00:00:00",
          "2022-06-11T00:00:00",
          "2022-06-14T00:00:00",
          "2022-06-15T00:00:00",
          "2022-06-18T00:00:00",
          "2022-06-20T00:00:00",
          "2022-06-22T00:00:00",
          "2022-06-24T00:00:00",
          "2022-06-25T00:00:00",
          "2022-06-28T00:00:00",
          "2022-06-30T00:00:00",
          "2022-07-02T00:00:00",
          "2022-07-04T00:00:00",
          "2022-07-07T00:00:00",
          "2022-07-28T00:00:00",
          "2022-08-03T00:00:00",
          "2022-08-06T00:00:00",
          "2022-08-13T00:00:00",
          "2022-08-17T00:00:00",
          "2022-08-21T00:00:00",
          "2022-08-24T00:00:00",
          "2022-08-27T00:00:00",
          "2022-09-03T00:00:00",
          "2022-09-07T00:00:00",
          "2022-09-08T00:00:00",
          "2022-09-09T00:00:00",
          "2022-09-10T00:00:00",
          "2022-09-11T00:00:00",
          "2022-09-12T00:00:00",
          "2022-09-13T00:00:00",
          "2022-09-14T00:00:00",
          "2022-09-15T00:00:00",
          "2022-09-16T00:00:00",
          "2022-09-17T00:00:00",
          "2022-09-18T00:00:00",
          "2022-09-19T00:00:00",
          "2022-09-20T00:00:00",
          "2022-09-21T00:00:00",
          "2022-09-22T00:00:00",
          "2022-09-23T00:00:00",
          "2022-09-24T00:00:00",
          "2022-09-25T00:00:00",
          "2022-09-26T00:00:00",
          "2022-09-28T00:00:00",
          "2022-09-30T00:00:00",
          "2022-10-05T00:00:00",
          "2022-10-08T00:00:00",
          "2022-10-12T00:00:00",
          "2022-10-19T00:00:00",
          "2022-10-22T00:00:00",
          "2022-10-27T00:00:00",
          "2022-11-05T00:00:00",
          "2022-11-12T00:00:00",
          "2022-11-13T00:00:00",
          "2022-11-14T00:00:00",
          "2022-11-21T00:00:00",
          "2022-11-30T00:00:00",
          "2022-12-01T00:00:00",
          "2022-12-02T00:00:00",
          "2022-12-05T00:00:00",
          "2022-12-12T00:00:00",
          "2022-12-21T00:00:00",
          "2023-01-04T00:00:00",
          "2023-01-13T00:00:00",
          "2023-01-30T00:00:00",
          "2023-02-13T00:00:00",
          "2023-02-21T00:00:00"
         ],
         "xaxis": "x",
         "y": [
          5,
          0,
          3,
          1,
          1,
          1,
          1,
          0,
          0,
          3,
          1,
          3,
          1,
          1,
          1.5,
          1,
          3,
          0,
          3,
          1,
          1.5,
          6.5,
          3,
          3,
          2.5,
          0.75,
          0.5,
          0.5,
          3,
          2,
          1,
          1,
          3,
          3,
          8.125,
          99,
          10,
          7,
          5,
          4,
          4,
          79.25,
          11.666666666666666,
          69.33333333333333,
          5.25,
          0.25,
          1.75,
          2,
          1,
          5,
          5,
          5,
          3,
          0,
          0,
          5,
          4,
          4,
          1,
          3,
          0,
          0,
          0.25,
          0,
          0,
          0.5,
          0,
          0,
          2,
          3,
          5,
          0.5,
          0.75,
          0,
          0
         ],
         "yaxis": "y"
        }
       ],
       "layout": {
        "barmode": "group",
        "legend": {
         "title": {
          "text": "variable"
         },
         "tracegroupgap": 0
        },
        "margin": {
         "t": 60
        },
        "template": {
         "data": {
          "bar": [
           {
            "error_x": {
             "color": "#2a3f5f"
            },
            "error_y": {
             "color": "#2a3f5f"
            },
            "marker": {
             "line": {
              "color": "#E5ECF6",
              "width": 0.5
             },
             "pattern": {
              "fillmode": "overlay",
              "size": 10,
              "solidity": 0.2
             }
            },
            "type": "bar"
           }
          ],
          "barpolar": [
           {
            "marker": {
             "line": {
              "color": "#E5ECF6",
              "width": 0.5
             },
             "pattern": {
              "fillmode": "overlay",
              "size": 10,
              "solidity": 0.2
             }
            },
            "type": "barpolar"
           }
          ],
          "carpet": [
           {
            "aaxis": {
             "endlinecolor": "#2a3f5f",
             "gridcolor": "white",
             "linecolor": "white",
             "minorgridcolor": "white",
             "startlinecolor": "#2a3f5f"
            },
            "baxis": {
             "endlinecolor": "#2a3f5f",
             "gridcolor": "white",
             "linecolor": "white",
             "minorgridcolor": "white",
             "startlinecolor": "#2a3f5f"
            },
            "type": "carpet"
           }
          ],
          "choropleth": [
           {
            "colorbar": {
             "outlinewidth": 0,
             "ticks": ""
            },
            "type": "choropleth"
           }
          ],
          "contour": [
           {
            "colorbar": {
             "outlinewidth": 0,
             "ticks": ""
            },
            "colorscale": [
             [
              0,
              "#0d0887"
             ],
             [
              0.1111111111111111,
              "#46039f"
             ],
             [
              0.2222222222222222,
              "#7201a8"
             ],
             [
              0.3333333333333333,
              "#9c179e"
             ],
             [
              0.4444444444444444,
              "#bd3786"
             ],
             [
              0.5555555555555556,
              "#d8576b"
             ],
             [
              0.6666666666666666,
              "#ed7953"
             ],
             [
              0.7777777777777778,
              "#fb9f3a"
             ],
             [
              0.8888888888888888,
              "#fdca26"
             ],
             [
              1,
              "#f0f921"
             ]
            ],
            "type": "contour"
           }
          ],
          "contourcarpet": [
           {
            "colorbar": {
             "outlinewidth": 0,
             "ticks": ""
            },
            "type": "contourcarpet"
           }
          ],
          "heatmap": [
           {
            "colorbar": {
             "outlinewidth": 0,
             "ticks": ""
            },
            "colorscale": [
             [
              0,
              "#0d0887"
             ],
             [
              0.1111111111111111,
              "#46039f"
             ],
             [
              0.2222222222222222,
              "#7201a8"
             ],
             [
              0.3333333333333333,
              "#9c179e"
             ],
             [
              0.4444444444444444,
              "#bd3786"
             ],
             [
              0.5555555555555556,
              "#d8576b"
             ],
             [
              0.6666666666666666,
              "#ed7953"
             ],
             [
              0.7777777777777778,
              "#fb9f3a"
             ],
             [
              0.8888888888888888,
              "#fdca26"
             ],
             [
              1,
              "#f0f921"
             ]
            ],
            "type": "heatmap"
           }
          ],
          "heatmapgl": [
           {
            "colorbar": {
             "outlinewidth": 0,
             "ticks": ""
            },
            "colorscale": [
             [
              0,
              "#0d0887"
             ],
             [
              0.1111111111111111,
              "#46039f"
             ],
             [
              0.2222222222222222,
              "#7201a8"
             ],
             [
              0.3333333333333333,
              "#9c179e"
             ],
             [
              0.4444444444444444,
              "#bd3786"
             ],
             [
              0.5555555555555556,
              "#d8576b"
             ],
             [
              0.6666666666666666,
              "#ed7953"
             ],
             [
              0.7777777777777778,
              "#fb9f3a"
             ],
             [
              0.8888888888888888,
              "#fdca26"
             ],
             [
              1,
              "#f0f921"
             ]
            ],
            "type": "heatmapgl"
           }
          ],
          "histogram": [
           {
            "marker": {
             "pattern": {
              "fillmode": "overlay",
              "size": 10,
              "solidity": 0.2
             }
            },
            "type": "histogram"
           }
          ],
          "histogram2d": [
           {
            "colorbar": {
             "outlinewidth": 0,
             "ticks": ""
            },
            "colorscale": [
             [
              0,
              "#0d0887"
             ],
             [
              0.1111111111111111,
              "#46039f"
             ],
             [
              0.2222222222222222,
              "#7201a8"
             ],
             [
              0.3333333333333333,
              "#9c179e"
             ],
             [
              0.4444444444444444,
              "#bd3786"
             ],
             [
              0.5555555555555556,
              "#d8576b"
             ],
             [
              0.6666666666666666,
              "#ed7953"
             ],
             [
              0.7777777777777778,
              "#fb9f3a"
             ],
             [
              0.8888888888888888,
              "#fdca26"
             ],
             [
              1,
              "#f0f921"
             ]
            ],
            "type": "histogram2d"
           }
          ],
          "histogram2dcontour": [
           {
            "colorbar": {
             "outlinewidth": 0,
             "ticks": ""
            },
            "colorscale": [
             [
              0,
              "#0d0887"
             ],
             [
              0.1111111111111111,
              "#46039f"
             ],
             [
              0.2222222222222222,
              "#7201a8"
             ],
             [
              0.3333333333333333,
              "#9c179e"
             ],
             [
              0.4444444444444444,
              "#bd3786"
             ],
             [
              0.5555555555555556,
              "#d8576b"
             ],
             [
              0.6666666666666666,
              "#ed7953"
             ],
             [
              0.7777777777777778,
              "#fb9f3a"
             ],
             [
              0.8888888888888888,
              "#fdca26"
             ],
             [
              1,
              "#f0f921"
             ]
            ],
            "type": "histogram2dcontour"
           }
          ],
          "mesh3d": [
           {
            "colorbar": {
             "outlinewidth": 0,
             "ticks": ""
            },
            "type": "mesh3d"
           }
          ],
          "parcoords": [
           {
            "line": {
             "colorbar": {
              "outlinewidth": 0,
              "ticks": ""
             }
            },
            "type": "parcoords"
           }
          ],
          "pie": [
           {
            "automargin": true,
            "type": "pie"
           }
          ],
          "scatter": [
           {
            "fillpattern": {
             "fillmode": "overlay",
             "size": 10,
             "solidity": 0.2
            },
            "type": "scatter"
           }
          ],
          "scatter3d": [
           {
            "line": {
             "colorbar": {
              "outlinewidth": 0,
              "ticks": ""
             }
            },
            "marker": {
             "colorbar": {
              "outlinewidth": 0,
              "ticks": ""
             }
            },
            "type": "scatter3d"
           }
          ],
          "scattercarpet": [
           {
            "marker": {
             "colorbar": {
              "outlinewidth": 0,
              "ticks": ""
             }
            },
            "type": "scattercarpet"
           }
          ],
          "scattergeo": [
           {
            "marker": {
             "colorbar": {
              "outlinewidth": 0,
              "ticks": ""
             }
            },
            "type": "scattergeo"
           }
          ],
          "scattergl": [
           {
            "marker": {
             "colorbar": {
              "outlinewidth": 0,
              "ticks": ""
             }
            },
            "type": "scattergl"
           }
          ],
          "scattermapbox": [
           {
            "marker": {
             "colorbar": {
              "outlinewidth": 0,
              "ticks": ""
             }
            },
            "type": "scattermapbox"
           }
          ],
          "scatterpolar": [
           {
            "marker": {
             "colorbar": {
              "outlinewidth": 0,
              "ticks": ""
             }
            },
            "type": "scatterpolar"
           }
          ],
          "scatterpolargl": [
           {
            "marker": {
             "colorbar": {
              "outlinewidth": 0,
              "ticks": ""
             }
            },
            "type": "scatterpolargl"
           }
          ],
          "scatterternary": [
           {
            "marker": {
             "colorbar": {
              "outlinewidth": 0,
              "ticks": ""
             }
            },
            "type": "scatterternary"
           }
          ],
          "surface": [
           {
            "colorbar": {
             "outlinewidth": 0,
             "ticks": ""
            },
            "colorscale": [
             [
              0,
              "#0d0887"
             ],
             [
              0.1111111111111111,
              "#46039f"
             ],
             [
              0.2222222222222222,
              "#7201a8"
             ],
             [
              0.3333333333333333,
              "#9c179e"
             ],
             [
              0.4444444444444444,
              "#bd3786"
             ],
             [
              0.5555555555555556,
              "#d8576b"
             ],
             [
              0.6666666666666666,
              "#ed7953"
             ],
             [
              0.7777777777777778,
              "#fb9f3a"
             ],
             [
              0.8888888888888888,
              "#fdca26"
             ],
             [
              1,
              "#f0f921"
             ]
            ],
            "type": "surface"
           }
          ],
          "table": [
           {
            "cells": {
             "fill": {
              "color": "#EBF0F8"
             },
             "line": {
              "color": "white"
             }
            },
            "header": {
             "fill": {
              "color": "#C8D4E3"
             },
             "line": {
              "color": "white"
             }
            },
            "type": "table"
           }
          ]
         },
         "layout": {
          "annotationdefaults": {
           "arrowcolor": "#2a3f5f",
           "arrowhead": 0,
           "arrowwidth": 1
          },
          "autotypenumbers": "strict",
          "coloraxis": {
           "colorbar": {
            "outlinewidth": 0,
            "ticks": ""
           }
          },
          "colorscale": {
           "diverging": [
            [
             0,
             "#8e0152"
            ],
            [
             0.1,
             "#c51b7d"
            ],
            [
             0.2,
             "#de77ae"
            ],
            [
             0.3,
             "#f1b6da"
            ],
            [
             0.4,
             "#fde0ef"
            ],
            [
             0.5,
             "#f7f7f7"
            ],
            [
             0.6,
             "#e6f5d0"
            ],
            [
             0.7,
             "#b8e186"
            ],
            [
             0.8,
             "#7fbc41"
            ],
            [
             0.9,
             "#4d9221"
            ],
            [
             1,
             "#276419"
            ]
           ],
           "sequential": [
            [
             0,
             "#0d0887"
            ],
            [
             0.1111111111111111,
             "#46039f"
            ],
            [
             0.2222222222222222,
             "#7201a8"
            ],
            [
             0.3333333333333333,
             "#9c179e"
            ],
            [
             0.4444444444444444,
             "#bd3786"
            ],
            [
             0.5555555555555556,
             "#d8576b"
            ],
            [
             0.6666666666666666,
             "#ed7953"
            ],
            [
             0.7777777777777778,
             "#fb9f3a"
            ],
            [
             0.8888888888888888,
             "#fdca26"
            ],
            [
             1,
             "#f0f921"
            ]
           ],
           "sequentialminus": [
            [
             0,
             "#0d0887"
            ],
            [
             0.1111111111111111,
             "#46039f"
            ],
            [
             0.2222222222222222,
             "#7201a8"
            ],
            [
             0.3333333333333333,
             "#9c179e"
            ],
            [
             0.4444444444444444,
             "#bd3786"
            ],
            [
             0.5555555555555556,
             "#d8576b"
            ],
            [
             0.6666666666666666,
             "#ed7953"
            ],
            [
             0.7777777777777778,
             "#fb9f3a"
            ],
            [
             0.8888888888888888,
             "#fdca26"
            ],
            [
             1,
             "#f0f921"
            ]
           ]
          },
          "colorway": [
           "#636efa",
           "#EF553B",
           "#00cc96",
           "#ab63fa",
           "#FFA15A",
           "#19d3f3",
           "#FF6692",
           "#B6E880",
           "#FF97FF",
           "#FECB52"
          ],
          "font": {
           "color": "#2a3f5f"
          },
          "geo": {
           "bgcolor": "white",
           "lakecolor": "white",
           "landcolor": "#E5ECF6",
           "showlakes": true,
           "showland": true,
           "subunitcolor": "white"
          },
          "hoverlabel": {
           "align": "left"
          },
          "hovermode": "closest",
          "mapbox": {
           "style": "light"
          },
          "paper_bgcolor": "white",
          "plot_bgcolor": "#E5ECF6",
          "polar": {
           "angularaxis": {
            "gridcolor": "white",
            "linecolor": "white",
            "ticks": ""
           },
           "bgcolor": "#E5ECF6",
           "radialaxis": {
            "gridcolor": "white",
            "linecolor": "white",
            "ticks": ""
           }
          },
          "scene": {
           "xaxis": {
            "backgroundcolor": "#E5ECF6",
            "gridcolor": "white",
            "gridwidth": 2,
            "linecolor": "white",
            "showbackground": true,
            "ticks": "",
            "zerolinecolor": "white"
           },
           "yaxis": {
            "backgroundcolor": "#E5ECF6",
            "gridcolor": "white",
            "gridwidth": 2,
            "linecolor": "white",
            "showbackground": true,
            "ticks": "",
            "zerolinecolor": "white"
           },
           "zaxis": {
            "backgroundcolor": "#E5ECF6",
            "gridcolor": "white",
            "gridwidth": 2,
            "linecolor": "white",
            "showbackground": true,
            "ticks": "",
            "zerolinecolor": "white"
           }
          },
          "shapedefaults": {
           "line": {
            "color": "#2a3f5f"
           }
          },
          "ternary": {
           "aaxis": {
            "gridcolor": "white",
            "linecolor": "white",
            "ticks": ""
           },
           "baxis": {
            "gridcolor": "white",
            "linecolor": "white",
            "ticks": ""
           },
           "bgcolor": "#E5ECF6",
           "caxis": {
            "gridcolor": "white",
            "linecolor": "white",
            "ticks": ""
           }
          },
          "title": {
           "x": 0.05
          },
          "xaxis": {
           "automargin": true,
           "gridcolor": "white",
           "linecolor": "white",
           "ticks": "",
           "title": {
            "standoff": 15
           },
           "zerolinecolor": "white",
           "zerolinewidth": 2
          },
          "yaxis": {
           "automargin": true,
           "gridcolor": "white",
           "linecolor": "white",
           "ticks": "",
           "title": {
            "standoff": 15
           },
           "zerolinecolor": "white",
           "zerolinewidth": 2
          }
         }
        },
        "xaxis": {
         "anchor": "y",
         "domain": [
          0,
          1
         ],
         "title": {
          "text": "date"
         }
        },
        "yaxis": {
         "anchor": "x",
         "domain": [
          0,
          1
         ],
         "title": {
          "text": "value"
         }
        }
       }
      }
     },
     "metadata": {},
     "output_type": "display_data"
    }
   ],
   "source": [
    "fig = px.bar(\n",
    "    readings.groupby('date', as_index=False).mean(),\n",
    "    x = 'date',\n",
    "    y = ['total_chlorine', 'free_chlorine'],\n",
    "    barmode = 'group'\n",
    ")\n",
    "\n",
    "fig.show()"
   ]
  },
  {
   "cell_type": "markdown",
   "metadata": {},
   "source": [
    "Calculate gallons added from fill time."
   ]
  },
  {
   "cell_type": "code",
   "execution_count": 11,
   "metadata": {},
   "outputs": [
    {
     "name": "stdout",
     "output_type": "stream",
     "text": [
      "You added 400 gallons of water.\n"
     ]
    }
   ],
   "source": [
    "# enter how long the hose was on\n",
    "duration_of_fill_min = 36\n",
    "duration_of_fill_sec = 0\n",
    "\n",
    "# caluclate amount of water added\n",
    "fill_rate = 5/27  # emperically derived from sophisticated experimenation...it took 27s to fill a 5-gal. bucket\n",
    "gallons_added = (duration_of_fill_min * 60 + duration_of_fill_sec) * fill_rate\n",
    "print(f'You added {gallons_added:,.0f} gallons of water.')"
   ]
  },
  {
   "cell_type": "code",
   "execution_count": 10,
   "metadata": {},
   "outputs": [
    {
     "data": {
      "text/html": [
       "<div>\n",
       "<style scoped>\n",
       "    .dataframe tbody tr th:only-of-type {\n",
       "        vertical-align: middle;\n",
       "    }\n",
       "\n",
       "    .dataframe tbody tr th {\n",
       "        vertical-align: top;\n",
       "    }\n",
       "\n",
       "    .dataframe thead th {\n",
       "        text-align: right;\n",
       "    }\n",
       "</style>\n",
       "<table border=\"1\" class=\"dataframe\">\n",
       "  <thead>\n",
       "    <tr style=\"text-align: right;\">\n",
       "      <th></th>\n",
       "      <th>date</th>\n",
       "      <th>time</th>\n",
       "      <th>chemical</th>\n",
       "      <th>amount</th>\n",
       "      <th>unit</th>\n",
       "      <th>note</th>\n",
       "    </tr>\n",
       "  </thead>\n",
       "  <tbody>\n",
       "    <tr>\n",
       "      <th>93</th>\n",
       "      <td>2023-01-31</td>\n",
       "      <td>12:35</td>\n",
       "      <td>water</td>\n",
       "      <td>333.0</td>\n",
       "      <td>gal</td>\n",
       "      <td>30m 0s</td>\n",
       "    </tr>\n",
       "    <tr>\n",
       "      <th>94</th>\n",
       "      <td>2023-02-13</td>\n",
       "      <td>13:53</td>\n",
       "      <td>water</td>\n",
       "      <td>333.0</td>\n",
       "      <td>gal</td>\n",
       "      <td>30m 0s</td>\n",
       "    </tr>\n",
       "    <tr>\n",
       "      <th>95</th>\n",
       "      <td>2023-02-13</td>\n",
       "      <td>17:14</td>\n",
       "      <td>chlorine</td>\n",
       "      <td>1.0</td>\n",
       "      <td>3\" puck</td>\n",
       "      <td>NaN</td>\n",
       "    </tr>\n",
       "    <tr>\n",
       "      <th>96</th>\n",
       "      <td>2023-02-13</td>\n",
       "      <td>17:15</td>\n",
       "      <td>muriatic acid</td>\n",
       "      <td>16.0</td>\n",
       "      <td>oz</td>\n",
       "      <td>NaN</td>\n",
       "    </tr>\n",
       "    <tr>\n",
       "      <th>97</th>\n",
       "      <td>2023-02-22</td>\n",
       "      <td>13:45</td>\n",
       "      <td>water</td>\n",
       "      <td>333.0</td>\n",
       "      <td>gal</td>\n",
       "      <td>30m 0s</td>\n",
       "    </tr>\n",
       "  </tbody>\n",
       "</table>\n",
       "</div>"
      ],
      "text/plain": [
       "         date   time       chemical  amount     unit    note\n",
       "93 2023-01-31  12:35          water   333.0      gal  30m 0s\n",
       "94 2023-02-13  13:53          water   333.0      gal  30m 0s\n",
       "95 2023-02-13  17:14       chlorine     1.0  3\" puck     NaN\n",
       "96 2023-02-13  17:15  muriatic acid    16.0       oz     NaN\n",
       "97 2023-02-22  13:45          water   333.0      gal  30m 0s"
      ]
     },
     "execution_count": 10,
     "metadata": {},
     "output_type": "execute_result"
    }
   ],
   "source": [
    "chemicals.tail()"
   ]
  },
  {
   "cell_type": "code",
   "execution_count": null,
   "metadata": {},
   "outputs": [],
   "source": []
  }
 ],
 "metadata": {
  "kernelspec": {
   "display_name": "Python 3.10.4 ('venv': venv)",
   "language": "python",
   "name": "python3"
  },
  "language_info": {
   "codemirror_mode": {
    "name": "ipython",
    "version": 3
   },
   "file_extension": ".py",
   "mimetype": "text/x-python",
   "name": "python",
   "nbconvert_exporter": "python",
   "pygments_lexer": "ipython3",
   "version": "3.10.9"
  },
  "orig_nbformat": 4,
  "vscode": {
   "interpreter": {
    "hash": "052e06e62f8f6990ce936a55794b2d8820c2858835b0968516ac7414d5f74a40"
   }
  }
 },
 "nbformat": 4,
 "nbformat_minor": 2
}
